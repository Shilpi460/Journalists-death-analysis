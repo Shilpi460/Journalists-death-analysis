{
 "cells": [
  {
   "cell_type": "markdown",
   "id": "5a677402",
   "metadata": {
    "papermill": {
     "duration": 0.010107,
     "end_time": "2021-05-10T05:20:09.782473",
     "exception": false,
     "start_time": "2021-05-10T05:20:09.772366",
     "status": "completed"
    },
    "tags": []
   },
   "source": [
    "# Journalists killed worldwide since 1992\n",
    "\n",
    "Journalism is gathering information and presenting it in front of people in the form of news and writings. Journalists perform these tasks and even scarifice their lives for thier job. This dataset used for analysis was collected by CPJ since 1992 till 2016 and contains 18 variables giving the details about journalists, their work and their death."
   ]
  },
  {
   "cell_type": "code",
   "execution_count": 1,
   "id": "0adbcb19",
   "metadata": {
    "execution": {
     "iopub.execute_input": "2021-05-10T05:20:09.806003Z",
     "iopub.status.busy": "2021-05-10T05:20:09.803444Z",
     "iopub.status.idle": "2021-05-10T05:20:11.332540Z",
     "shell.execute_reply": "2021-05-10T05:20:11.331379Z"
    },
    "papermill": {
     "duration": 1.541719,
     "end_time": "2021-05-10T05:20:11.332792",
     "exception": false,
     "start_time": "2021-05-10T05:20:09.791073",
     "status": "completed"
    },
    "tags": []
   },
   "outputs": [
    {
     "name": "stderr",
     "output_type": "stream",
     "text": [
      "\n",
      "Attaching package: ‘janitor’\n",
      "\n",
      "\n",
      "The following objects are masked from ‘package:stats’:\n",
      "\n",
      "    chisq.test, fisher.test\n",
      "\n",
      "\n",
      "\n",
      "Attaching package: ‘dplyr’\n",
      "\n",
      "\n",
      "The following objects are masked from ‘package:stats’:\n",
      "\n",
      "    filter, lag\n",
      "\n",
      "\n",
      "The following objects are masked from ‘package:base’:\n",
      "\n",
      "    intersect, setdiff, setequal, union\n",
      "\n",
      "\n",
      "\n",
      "Attaching package: ‘lubridate’\n",
      "\n",
      "\n",
      "The following objects are masked from ‘package:base’:\n",
      "\n",
      "    date, intersect, setdiff, union\n",
      "\n",
      "\n",
      "── \u001b[1mAttaching packages\u001b[22m ─────────────────────────────────────── tidyverse 1.3.0 ──\n",
      "\n",
      "\u001b[32m✔\u001b[39m \u001b[34mggplot2\u001b[39m 3.3.3     \u001b[32m✔\u001b[39m \u001b[34mpurrr  \u001b[39m 0.3.4\n",
      "\u001b[32m✔\u001b[39m \u001b[34mtibble \u001b[39m 3.1.1     \u001b[32m✔\u001b[39m \u001b[34mstringr\u001b[39m 1.4.0\n",
      "\u001b[32m✔\u001b[39m \u001b[34mtidyr  \u001b[39m 1.1.3     \u001b[32m✔\u001b[39m \u001b[34mforcats\u001b[39m 0.5.0\n",
      "\u001b[32m✔\u001b[39m \u001b[34mreadr  \u001b[39m 1.4.0     \n",
      "\n",
      "── \u001b[1mConflicts\u001b[22m ────────────────────────────────────────── tidyverse_conflicts() ──\n",
      "\u001b[31m✖\u001b[39m \u001b[34mlubridate\u001b[39m::\u001b[32mas.difftime()\u001b[39m masks \u001b[34mbase\u001b[39m::as.difftime()\n",
      "\u001b[31m✖\u001b[39m \u001b[34mlubridate\u001b[39m::\u001b[32mdate()\u001b[39m        masks \u001b[34mbase\u001b[39m::date()\n",
      "\u001b[31m✖\u001b[39m \u001b[34mdplyr\u001b[39m::\u001b[32mfilter()\u001b[39m          masks \u001b[34mstats\u001b[39m::filter()\n",
      "\u001b[31m✖\u001b[39m \u001b[34mlubridate\u001b[39m::\u001b[32mintersect()\u001b[39m   masks \u001b[34mbase\u001b[39m::intersect()\n",
      "\u001b[31m✖\u001b[39m \u001b[34mdplyr\u001b[39m::\u001b[32mlag()\u001b[39m             masks \u001b[34mstats\u001b[39m::lag()\n",
      "\u001b[31m✖\u001b[39m \u001b[34mlubridate\u001b[39m::\u001b[32msetdiff()\u001b[39m     masks \u001b[34mbase\u001b[39m::setdiff()\n",
      "\u001b[31m✖\u001b[39m \u001b[34mlubridate\u001b[39m::\u001b[32munion()\u001b[39m       masks \u001b[34mbase\u001b[39m::union()\n",
      "\n"
     ]
    }
   ],
   "source": [
    "# load necessary packages\n",
    "library(janitor)\n",
    "library(dplyr)\n",
    "library(lubridate)\n",
    "library(tidyverse)\n",
    "library(ggplot2)"
   ]
  },
  {
   "cell_type": "code",
   "execution_count": 2,
   "id": "b4846da5",
   "metadata": {
    "execution": {
     "iopub.execute_input": "2021-05-10T05:20:11.399755Z",
     "iopub.status.busy": "2021-05-10T05:20:11.362490Z",
     "iopub.status.idle": "2021-05-10T05:20:11.470606Z",
     "shell.execute_reply": "2021-05-10T05:20:11.469500Z"
    },
    "papermill": {
     "duration": 0.123701,
     "end_time": "2021-05-10T05:20:11.470755",
     "exception": false,
     "start_time": "2021-05-10T05:20:11.347054",
     "status": "completed"
    },
    "tags": []
   },
   "outputs": [],
   "source": [
    "# loading the data\n",
    "j_data <- read.csv(\"../input/journalists-killed-worldwide-since-1992/cpj.csv\")"
   ]
  },
  {
   "cell_type": "code",
   "execution_count": 3,
   "id": "61b3c0c9",
   "metadata": {
    "execution": {
     "iopub.execute_input": "2021-05-10T05:20:11.500388Z",
     "iopub.status.busy": "2021-05-10T05:20:11.498664Z",
     "iopub.status.idle": "2021-05-10T05:20:11.532088Z",
     "shell.execute_reply": "2021-05-10T05:20:11.530494Z"
    },
    "papermill": {
     "duration": 0.049614,
     "end_time": "2021-05-10T05:20:11.532244",
     "exception": false,
     "start_time": "2021-05-10T05:20:11.482630",
     "status": "completed"
    },
    "tags": []
   },
   "outputs": [
    {
     "data": {
      "text/html": [
       "<table class=\"dataframe\">\n",
       "<caption>A data.frame: 6 × 18</caption>\n",
       "<thead>\n",
       "\t<tr><th></th><th scope=col>Type</th><th scope=col>Date</th><th scope=col>Name</th><th scope=col>Sex</th><th scope=col>Country_killed</th><th scope=col>Organization</th><th scope=col>Nationality</th><th scope=col>Medium</th><th scope=col>Job</th><th scope=col>Coverage</th><th scope=col>Freelance</th><th scope=col>Local_Foreign</th><th scope=col>Source_fire</th><th scope=col>Type_death</th><th scope=col>Impunity_for_murder</th><th scope=col>Taken_captive</th><th scope=col>Threatened</th><th scope=col>Tortured</th></tr>\n",
       "\t<tr><th></th><th scope=col>&lt;fct&gt;</th><th scope=col>&lt;fct&gt;</th><th scope=col>&lt;fct&gt;</th><th scope=col>&lt;fct&gt;</th><th scope=col>&lt;fct&gt;</th><th scope=col>&lt;fct&gt;</th><th scope=col>&lt;fct&gt;</th><th scope=col>&lt;fct&gt;</th><th scope=col>&lt;fct&gt;</th><th scope=col>&lt;fct&gt;</th><th scope=col>&lt;fct&gt;</th><th scope=col>&lt;fct&gt;</th><th scope=col>&lt;fct&gt;</th><th scope=col>&lt;fct&gt;</th><th scope=col>&lt;fct&gt;</th><th scope=col>&lt;fct&gt;</th><th scope=col>&lt;fct&gt;</th><th scope=col>&lt;fct&gt;</th></tr>\n",
       "</thead>\n",
       "<tbody>\n",
       "\t<tr><th scope=row>1</th><td>Motive Confirmed</td><td>October 22, 2016</td><td>Ali Risan        </td><td>Male</td><td>Iraq    </td><td>Al-Sumaria TV</td><td>Iraqi      </td><td>Television, Internet</td><td>Camera Operator</td><td>War                                                                 </td><td>No </td><td>Local  </td><td>Political Group</td><td>Crossfire/Combat-Related</td><td></td><td>  </td><td>  </td><td>\n",
       "  </td></tr>\n",
       "\t<tr><th scope=row>2</th><td>Motive Confirmed</td><td>October 21, 2016</td><td>Ahmet Haceroğlu  </td><td>Male</td><td>Iraq    </td><td>Türkmeneli TV</td><td>Iraqi      </td><td>Television          </td><td>Producer       </td><td>Politics, War                                                       </td><td>No </td><td>Local  </td><td>Political Group</td><td>Crossfire/Combat-Related</td><td></td><td>  </td><td>  </td><td>\n",
       "  </td></tr>\n",
       "\t<tr><th scope=row>3</th><td>Motive Confirmed</td><td>October  2, 2016</td><td>Jeroen Oerlemans </td><td>Male</td><td>Libya   </td><td>Freelance    </td><td>Netherlands</td><td>Print, Internet     </td><td>Photographer   </td><td>Politics, War                                                       </td><td>Yes</td><td>Foreign</td><td>Political Group</td><td>Crossfire/Combat-Related</td><td></td><td>  </td><td>  </td><td>\n",
       "  </td></tr>\n",
       "\t<tr><th scope=row>4</th><td>Motive Confirmed</td><td>August 14, 2016 </td><td>Mustafa Said     </td><td>Male</td><td>Iraq    </td><td>Kurdistan TV </td><td>Iraqi      </td><td>Television          </td><td>Camera Operator</td><td>War                                                                 </td><td>No </td><td>Local  </td><td>Unknown Fire   </td><td>Crossfire/Combat-Related</td><td></td><td>No</td><td>No</td><td>No\n",
       "</td></tr>\n",
       "\t<tr><th scope=row>5</th><td>Motive Confirmed</td><td>August  8, 2016 </td><td>Shehzad Ahmed    </td><td>    </td><td>Pakistan</td><td>Aaj News     </td><td>Pakistani  </td><td>Television          </td><td>Camera Operator</td><td>Business, Corruption, Crime, Culture, Human Rights, Politics, Sports</td><td>No </td><td>Local  </td><td>Political Group</td><td>Dangerous Assignment    </td><td></td><td>No</td><td>No</td><td>No\n",
       "</td></tr>\n",
       "\t<tr><th scope=row>6</th><td>Motive Confirmed</td><td>August  8, 2016 </td><td>Mehmood Khan     </td><td>Male</td><td>Pakistan</td><td>DawnNews     </td><td>Pakistani  </td><td>Television, Internet</td><td>Camera Operator</td><td>Business, Corruption, Crime, Culture, Human Rights, Politics, Sports</td><td>No </td><td>Local  </td><td>Political Group</td><td>Dangerous Assignment    </td><td></td><td>No</td><td>No</td><td>No\n",
       "</td></tr>\n",
       "</tbody>\n",
       "</table>\n"
      ],
      "text/latex": [
       "A data.frame: 6 × 18\n",
       "\\begin{tabular}{r|llllllllllllllllll}\n",
       "  & Type & Date & Name & Sex & Country\\_killed & Organization & Nationality & Medium & Job & Coverage & Freelance & Local\\_Foreign & Source\\_fire & Type\\_death & Impunity\\_for\\_murder & Taken\\_captive & Threatened & Tortured\\\\\n",
       "  & <fct> & <fct> & <fct> & <fct> & <fct> & <fct> & <fct> & <fct> & <fct> & <fct> & <fct> & <fct> & <fct> & <fct> & <fct> & <fct> & <fct> & <fct>\\\\\n",
       "\\hline\n",
       "\t1 & Motive Confirmed & October 22, 2016 & Ali Risan         & Male & Iraq     & Al-Sumaria TV & Iraqi       & Television, Internet & Camera Operator & War                                                                  & No  & Local   & Political Group & Crossfire/Combat-Related &  &    &    & \n",
       "  \\\\\n",
       "\t2 & Motive Confirmed & October 21, 2016 & Ahmet Haceroğlu   & Male & Iraq     & Türkmeneli TV & Iraqi       & Television           & Producer        & Politics, War                                                        & No  & Local   & Political Group & Crossfire/Combat-Related &  &    &    & \n",
       "  \\\\\n",
       "\t3 & Motive Confirmed & October  2, 2016 & Jeroen Oerlemans  & Male & Libya    & Freelance     & Netherlands & Print, Internet      & Photographer    & Politics, War                                                        & Yes & Foreign & Political Group & Crossfire/Combat-Related &  &    &    & \n",
       "  \\\\\n",
       "\t4 & Motive Confirmed & August 14, 2016  & Mustafa Said      & Male & Iraq     & Kurdistan TV  & Iraqi       & Television           & Camera Operator & War                                                                  & No  & Local   & Unknown Fire    & Crossfire/Combat-Related &  & No & No & No\n",
       "\\\\\n",
       "\t5 & Motive Confirmed & August  8, 2016  & Shehzad Ahmed     &      & Pakistan & Aaj News      & Pakistani   & Television           & Camera Operator & Business, Corruption, Crime, Culture, Human Rights, Politics, Sports & No  & Local   & Political Group & Dangerous Assignment     &  & No & No & No\n",
       "\\\\\n",
       "\t6 & Motive Confirmed & August  8, 2016  & Mehmood Khan      & Male & Pakistan & DawnNews      & Pakistani   & Television, Internet & Camera Operator & Business, Corruption, Crime, Culture, Human Rights, Politics, Sports & No  & Local   & Political Group & Dangerous Assignment     &  & No & No & No\n",
       "\\\\\n",
       "\\end{tabular}\n"
      ],
      "text/markdown": [
       "\n",
       "A data.frame: 6 × 18\n",
       "\n",
       "| <!--/--> | Type &lt;fct&gt; | Date &lt;fct&gt; | Name &lt;fct&gt; | Sex &lt;fct&gt; | Country_killed &lt;fct&gt; | Organization &lt;fct&gt; | Nationality &lt;fct&gt; | Medium &lt;fct&gt; | Job &lt;fct&gt; | Coverage &lt;fct&gt; | Freelance &lt;fct&gt; | Local_Foreign &lt;fct&gt; | Source_fire &lt;fct&gt; | Type_death &lt;fct&gt; | Impunity_for_murder &lt;fct&gt; | Taken_captive &lt;fct&gt; | Threatened &lt;fct&gt; | Tortured &lt;fct&gt; |\n",
       "|---|---|---|---|---|---|---|---|---|---|---|---|---|---|---|---|---|---|---|\n",
       "| 1 | Motive Confirmed | October 22, 2016 | Ali Risan         | Male | Iraq     | Al-Sumaria TV | Iraqi       | Television, Internet | Camera Operator | War                                                                  | No  | Local   | Political Group | Crossfire/Combat-Related | <!----> | <!----> | <!----> | <!----> |\n",
       "| 2 | Motive Confirmed | October 21, 2016 | Ahmet Haceroğlu   | Male | Iraq     | Türkmeneli TV | Iraqi       | Television           | Producer        | Politics, War                                                        | No  | Local   | Political Group | Crossfire/Combat-Related | <!----> | <!----> | <!----> | <!----> |\n",
       "| 3 | Motive Confirmed | October  2, 2016 | Jeroen Oerlemans  | Male | Libya    | Freelance     | Netherlands | Print, Internet      | Photographer    | Politics, War                                                        | Yes | Foreign | Political Group | Crossfire/Combat-Related | <!----> | <!----> | <!----> | <!----> |\n",
       "| 4 | Motive Confirmed | August 14, 2016  | Mustafa Said      | Male | Iraq     | Kurdistan TV  | Iraqi       | Television           | Camera Operator | War                                                                  | No  | Local   | Unknown Fire    | Crossfire/Combat-Related | <!----> | No | No | No\n",
       " |\n",
       "| 5 | Motive Confirmed | August  8, 2016  | Shehzad Ahmed     | <!----> | Pakistan | Aaj News      | Pakistani   | Television           | Camera Operator | Business, Corruption, Crime, Culture, Human Rights, Politics, Sports | No  | Local   | Political Group | Dangerous Assignment     | <!----> | No | No | No\n",
       " |\n",
       "| 6 | Motive Confirmed | August  8, 2016  | Mehmood Khan      | Male | Pakistan | DawnNews      | Pakistani   | Television, Internet | Camera Operator | Business, Corruption, Crime, Culture, Human Rights, Politics, Sports | No  | Local   | Political Group | Dangerous Assignment     | <!----> | No | No | No\n",
       " |\n",
       "\n"
      ],
      "text/plain": [
       "  Type             Date             Name              Sex  Country_killed\n",
       "1 Motive Confirmed October 22, 2016 Ali Risan         Male Iraq          \n",
       "2 Motive Confirmed October 21, 2016 Ahmet Haceroğlu   Male Iraq          \n",
       "3 Motive Confirmed October  2, 2016 Jeroen Oerlemans  Male Libya         \n",
       "4 Motive Confirmed August 14, 2016  Mustafa Said      Male Iraq          \n",
       "5 Motive Confirmed August  8, 2016  Shehzad Ahmed          Pakistan      \n",
       "6 Motive Confirmed August  8, 2016  Mehmood Khan      Male Pakistan      \n",
       "  Organization  Nationality Medium               Job            \n",
       "1 Al-Sumaria TV Iraqi       Television, Internet Camera Operator\n",
       "2 Türkmeneli TV Iraqi       Television           Producer       \n",
       "3 Freelance     Netherlands Print, Internet      Photographer   \n",
       "4 Kurdistan TV  Iraqi       Television           Camera Operator\n",
       "5 Aaj News      Pakistani   Television           Camera Operator\n",
       "6 DawnNews      Pakistani   Television, Internet Camera Operator\n",
       "  Coverage                                                            \n",
       "1 War                                                                 \n",
       "2 Politics, War                                                       \n",
       "3 Politics, War                                                       \n",
       "4 War                                                                 \n",
       "5 Business, Corruption, Crime, Culture, Human Rights, Politics, Sports\n",
       "6 Business, Corruption, Crime, Culture, Human Rights, Politics, Sports\n",
       "  Freelance Local_Foreign Source_fire     Type_death              \n",
       "1 No        Local         Political Group Crossfire/Combat-Related\n",
       "2 No        Local         Political Group Crossfire/Combat-Related\n",
       "3 Yes       Foreign       Political Group Crossfire/Combat-Related\n",
       "4 No        Local         Unknown Fire    Crossfire/Combat-Related\n",
       "5 No        Local         Political Group Dangerous Assignment    \n",
       "6 No        Local         Political Group Dangerous Assignment    \n",
       "  Impunity_for_murder Taken_captive Threatened Tortured\n",
       "1                                              \\n      \n",
       "2                                              \\n      \n",
       "3                                              \\n      \n",
       "4                     No            No         No\\n    \n",
       "5                     No            No         No\\n    \n",
       "6                     No            No         No\\n    "
      ]
     },
     "metadata": {},
     "output_type": "display_data"
    }
   ],
   "source": [
    "# checking first few rows of dataset\n",
    "head(j_data)"
   ]
  },
  {
   "cell_type": "code",
   "execution_count": 4,
   "id": "c9e9ec78",
   "metadata": {
    "execution": {
     "iopub.execute_input": "2021-05-10T05:20:11.564142Z",
     "iopub.status.busy": "2021-05-10T05:20:11.562362Z",
     "iopub.status.idle": "2021-05-10T05:20:11.588945Z",
     "shell.execute_reply": "2021-05-10T05:20:11.587537Z"
    },
    "papermill": {
     "duration": 0.0438,
     "end_time": "2021-05-10T05:20:11.589146",
     "exception": false,
     "start_time": "2021-05-10T05:20:11.545346",
     "status": "completed"
    },
    "tags": []
   },
   "outputs": [
    {
     "data": {
      "text/plain": [
       "                 Type                     Date     \n",
       " Media Workers     :  96   November 23, 2009:  32  \n",
       " Motive Confirmed  :1216   October 12, 2006 :  12  \n",
       " Motive Unconfirmed: 470   January  7, 2015 :   8  \n",
       "                           December 23, 2013:   5  \n",
       "                           January 25, 2015 :   5  \n",
       "                           June  1, 1994    :   5  \n",
       "                           (Other)          :1715  \n",
       "                             Name          Sex           Country_killed\n",
       " Maher                         :   2         : 566   Iraq       : 264  \n",
       " Unidentified                  :   2   Female:  80   Philippines: 133  \n",
       "  Ahmad [full name unavailable]:   1   Male  :1136   Syria      : 116  \n",
       "  Khaled Mohammad Nofan        :   1                 Mexico     :  89  \n",
       "  Sabah Salman                 :   1                 Pakistan   :  86  \n",
       "  Unidentified                 :   1                 Colombia   :  84  \n",
       " (Other)                       :1774                 (Other)    :1010  \n",
       "     Organization       Nationality               Medium   \n",
       " Freelance :  90              : 283                  :566  \n",
       " freelance :  64   Iraq       : 161   Print          :502  \n",
       " Freelancer:  30   Syria      :  78   Television     :301  \n",
       " Al-Arabiya:  15   Philippines:  71   Radio          :177  \n",
       " Reuters   :  14   Pakistan   :  69   Internet       : 84  \n",
       " Al-Iraqiya:  11   Mexico     :  68   Print, Internet: 48  \n",
       " (Other)   :1558   (Other)    :1052   (Other)        :104  \n",
       "              Job               Coverage   Freelance  Local_Foreign \n",
       "                :572                :624      : 565          : 565  \n",
       " Print Reporter :261   War          :243   No :1005   Foreign: 149  \n",
       " Broadcast      :219   Politics     :179   Yes: 212   Local  :1068  \n",
       " Camera Operator:136   Politics, War: 92                            \n",
       " Editor         :125   Crime        : 60                            \n",
       " Photographer   : 85   Corruption   : 56                            \n",
       " (Other)        :384   (Other)      :528                            \n",
       "               Source_fire                     Type_death  Impunity_for_murder\n",
       "                     :567                           :565          :985        \n",
       " Political Group     :380   Crossfire/Combat-Related:265   No     : 35        \n",
       " Military Officials  :213   Dangerous Assignment    :152   Partial: 75        \n",
       " Unknown Fire        :211   Murder                  :796   Yes    :687        \n",
       " Government Officials:191   Unknown                 :  4                      \n",
       " Criminal Group      :107                                                     \n",
       " (Other)             :113                                                     \n",
       " Taken_captive Threatened Tortured    \n",
       "     :675          :672   \\n   : 681  \n",
       " No  :917       Yes:  1   No\\n :1002  \n",
       " Yes :188      No  :787   Yes\\n:  99  \n",
       " Yes :  2      No  :  1               \n",
       "               Yes :321               \n",
       "                                      \n",
       "                                      "
      ]
     },
     "metadata": {},
     "output_type": "display_data"
    }
   ],
   "source": [
    "summary(j_data) # checking summary of data\n",
    "data <- j_data "
   ]
  },
  {
   "cell_type": "code",
   "execution_count": 5,
   "id": "8eb6da86",
   "metadata": {
    "execution": {
     "iopub.execute_input": "2021-05-10T05:20:11.622348Z",
     "iopub.status.busy": "2021-05-10T05:20:11.620819Z",
     "iopub.status.idle": "2021-05-10T05:20:11.651297Z",
     "shell.execute_reply": "2021-05-10T05:20:11.650308Z"
    },
    "papermill": {
     "duration": 0.048353,
     "end_time": "2021-05-10T05:20:11.651437",
     "exception": false,
     "start_time": "2021-05-10T05:20:11.603084",
     "status": "completed"
    },
    "tags": []
   },
   "outputs": [],
   "source": [
    "# removing empty levels\n",
    "data$Taken_captive <- factor(data$Taken_captive,exclude='')\n",
    "data$Threatened <- factor(data$Threatened, exclude='')\n",
    "data$Tortured <- factor(data$Tortured, exclude='\\n')\n",
    "data$Type_death <- factor(data$Type_death, exclude='')\n",
    "data$Sex <- factor(data$Sex,exclude='')\n",
    "data$Freelance <- factor(data$Freelance,exclude='')\n",
    "data$Local_Foreign <- factor(data$Local_Foreign,exclude='')\n",
    "data$Impunity_for_murder <- factor(data$Impunity_for_murder, exclude='')\n",
    "data$Coverage <- factor(data$Coverage, exclude='')\n",
    "data$Job <- factor(data$Job, exclude='')\n",
    "data$Medium <- factor(data$Medium, exclude='')"
   ]
  },
  {
   "cell_type": "code",
   "execution_count": 6,
   "id": "86aa0a50",
   "metadata": {
    "execution": {
     "iopub.execute_input": "2021-05-10T05:20:11.684185Z",
     "iopub.status.busy": "2021-05-10T05:20:11.683012Z",
     "iopub.status.idle": "2021-05-10T05:20:11.720774Z",
     "shell.execute_reply": "2021-05-10T05:20:11.719748Z"
    },
    "papermill": {
     "duration": 0.05564,
     "end_time": "2021-05-10T05:20:11.720911",
     "exception": false,
     "start_time": "2021-05-10T05:20:11.665271",
     "status": "completed"
    },
    "tags": []
   },
   "outputs": [],
   "source": [
    "# correcting the data\n",
    "data <- data %>% \n",
    "    mutate(Taken_captive=ifelse(as.character(Taken_captive)=='Yes ','Yes', as.character(Taken_captive))) %>%\n",
    "    mutate(Threatened=ifelse(as.character(Threatened)==' Yes','Yes',ifelse(as.character(Threatened)=='No ','No',as.character(Threatened)))) %>%\n",
    "    mutate(Tortured=ifelse(as.character(Tortured)=='No\\n','No',ifelse(as.character(Tortured)=='Yes\\n','Yes',as.character(Tortured)))) %>%\n",
    "    mutate(Taken_captive=as.factor(Taken_captive), Threatened = as.factor(Threatened), Tortured=as.factor(Tortured)) "
   ]
  },
  {
   "cell_type": "code",
   "execution_count": 7,
   "id": "d9a3989c",
   "metadata": {
    "execution": {
     "iopub.execute_input": "2021-05-10T05:20:11.754294Z",
     "iopub.status.busy": "2021-05-10T05:20:11.752772Z",
     "iopub.status.idle": "2021-05-10T05:20:11.797367Z",
     "shell.execute_reply": "2021-05-10T05:20:11.796328Z"
    },
    "papermill": {
     "duration": 0.062615,
     "end_time": "2021-05-10T05:20:11.797504",
     "exception": false,
     "start_time": "2021-05-10T05:20:11.734889",
     "status": "completed"
    },
    "tags": []
   },
   "outputs": [],
   "source": [
    "# creating seperate columns for year and month\n",
    "data <- data %>% \n",
    "    mutate(Date=as.Date(Date, format=\"%B%d,%Y\")) %>%\n",
    "    mutate(Month=month(ymd(Date)), Year=year(ymd(Date)))"
   ]
  },
  {
   "cell_type": "code",
   "execution_count": 8,
   "id": "2d735482",
   "metadata": {
    "execution": {
     "iopub.execute_input": "2021-05-10T05:20:11.831266Z",
     "iopub.status.busy": "2021-05-10T05:20:11.829900Z",
     "iopub.status.idle": "2021-05-10T05:20:11.845604Z",
     "shell.execute_reply": "2021-05-10T05:20:11.844519Z"
    },
    "papermill": {
     "duration": 0.034169,
     "end_time": "2021-05-10T05:20:11.845750",
     "exception": false,
     "start_time": "2021-05-10T05:20:11.811581",
     "status": "completed"
    },
    "tags": []
   },
   "outputs": [],
   "source": [
    "# removing the outlier\n",
    "data <- data %>%\n",
    "    filter(!Year==2030)"
   ]
  },
  {
   "cell_type": "code",
   "execution_count": 9,
   "id": "1d206fa1",
   "metadata": {
    "execution": {
     "iopub.execute_input": "2021-05-10T05:20:11.881716Z",
     "iopub.status.busy": "2021-05-10T05:20:11.881089Z",
     "iopub.status.idle": "2021-05-10T05:20:11.913305Z",
     "shell.execute_reply": "2021-05-10T05:20:11.912301Z"
    },
    "papermill": {
     "duration": 0.052783,
     "end_time": "2021-05-10T05:20:11.913447",
     "exception": false,
     "start_time": "2021-05-10T05:20:11.860664",
     "status": "completed"
    },
    "tags": []
   },
   "outputs": [],
   "source": [
    "# gathering the data to make dataset long\n",
    "data <- data %>% \n",
    "     mutate(Impunity_for_murder=as.character(Impunity_for_murder), Taken_captive=as.character(Taken_captive), Threatened\n",
    "          =as.character(Threatened), Tortured = as.character(Tortured)) %>%\n",
    "    gather(key='Source_of_death', value='Yes_No',Impunity_for_murder:Tortured) %>%\n",
    "    mutate(Source_of_death=as.factor(Source_of_death), Yes_No=as.factor(Yes_No))"
   ]
  },
  {
   "cell_type": "code",
   "execution_count": 10,
   "id": "7842fef5",
   "metadata": {
    "execution": {
     "iopub.execute_input": "2021-05-10T05:20:11.947117Z",
     "iopub.status.busy": "2021-05-10T05:20:11.945765Z",
     "iopub.status.idle": "2021-05-10T05:20:11.970452Z",
     "shell.execute_reply": "2021-05-10T05:20:11.969043Z"
    },
    "papermill": {
     "duration": 0.042903,
     "end_time": "2021-05-10T05:20:11.970593",
     "exception": false,
     "start_time": "2021-05-10T05:20:11.927690",
     "status": "completed"
    },
    "tags": []
   },
   "outputs": [
    {
     "data": {
      "text/plain": [
       "                 Type           Date           \n",
       " Media Workers     : 380   Min.   :3-05-02     \n",
       " Motive Confirmed  :4684   1st Qu.:2000-05-02  \n",
       " Motive Unconfirmed:1776   Median :2006-12-31  \n",
       "                           Mean   :2003-07-19  \n",
       "                           3rd Qu.:2011-12-01  \n",
       "                           Max.   :2016-10-22  \n",
       "                                               \n",
       "                             Name          Sex           Country_killed\n",
       " Maher                         :   8   Female: 308   Iraq       :1040  \n",
       " Unidentified                  :   8   Male  :4376   Philippines: 532  \n",
       "  Ahmad [full name unavailable]:   4   NA's  :2156   Syria      : 420  \n",
       "  Khaled Mohammad Nofan        :   4                 Colombia   : 336  \n",
       "  Sabah Salman                 :   4                 Pakistan   : 324  \n",
       "  Unidentified                 :   4                 Russia     : 312  \n",
       " (Other)                       :6808                 (Other)    :3876  \n",
       "     Organization       Nationality               Medium    \n",
       " Freelance : 324              :1096   Print          :1920  \n",
       " freelance : 252   Iraq       : 632   Television     :1188  \n",
       " Freelancer: 120   Syria      : 300   Radio          : 692  \n",
       " Al-Arabiya:  60   Philippines: 284   Internet       : 316  \n",
       " Reuters   :  56   Pakistan   : 268   Print, Internet: 184  \n",
       " Al-Iraqiya:  44   Algeria    : 236   (Other)        : 384  \n",
       " (Other)   :5984   (Other)    :4024   NA's           :2156  \n",
       "              Job                Coverage    Freelance   Local_Foreign \n",
       " Print Reporter :1008   War          : 940   No  :3868   Foreign: 572  \n",
       " Broadcast      : 848   Politics     : 684   Yes : 820   Local  :4116  \n",
       " Camera Operator: 540   Politics, War: 360   NA's:2152   NA's   :2152  \n",
       " Editor         : 468   Crime        : 228                             \n",
       " Photographer   : 332   Corruption   : 220                             \n",
       " (Other)        :1460   (Other)      :2052                             \n",
       " NA's           :2184   NA's         :2356                             \n",
       "               Source_fire                      Type_death       Month       \n",
       "                     :2156   Crossfire/Combat-Related:1052   Min.   : 1.000  \n",
       " Political Group     :1456   Dangerous Assignment    : 588   1st Qu.: 4.000  \n",
       " Unknown Fire        : 832   Murder                  :3040   Median : 6.000  \n",
       " Military Officials  : 828   Unknown                 :   8   Mean   : 6.455  \n",
       " Government Officials: 740   NA's                    :2152   3rd Qu.: 9.000  \n",
       " Criminal Group      : 412                                   Max.   :12.000  \n",
       " (Other)             : 416                                                   \n",
       "      Year                 Source_of_death     Yes_No    \n",
       " Min.   :1992   Impunity_for_murder:1710   No     :2677  \n",
       " 1st Qu.:2000   Taken_captive      :1710   Partial:  73  \n",
       " Median :2007   Threatened         :1710   Yes    :1210  \n",
       " Mean   :2005   Tortured           :1710   NA's   :2880  \n",
       " 3rd Qu.:2011                                            \n",
       " Max.   :2016                                            \n",
       "                                                         "
      ]
     },
     "metadata": {},
     "output_type": "display_data"
    }
   ],
   "source": [
    "summary(data)"
   ]
  },
  {
   "cell_type": "markdown",
   "id": "226273ef",
   "metadata": {
    "papermill": {
     "duration": 0.014701,
     "end_time": "2021-05-10T05:20:12.000215",
     "exception": false,
     "start_time": "2021-05-10T05:20:11.985514",
     "status": "completed"
    },
    "tags": []
   },
   "source": [
    "[Link to tableau visualization](https://public.tableau.com/profile/shilpi.dubey#!/vizhome/Journalistdeathanalysis/Deathanalysis)"
   ]
  },
  {
   "cell_type": "markdown",
   "id": "57c7fa71",
   "metadata": {
    "papermill": {
     "duration": 0.0146,
     "end_time": "2021-05-10T05:20:12.029715",
     "exception": false,
     "start_time": "2021-05-10T05:20:12.015115",
     "status": "completed"
    },
    "tags": []
   },
   "source": [
    "Exploratory data analysis on journalists-killed-worldwide-since 1992 dataset resulted in several points to be noticed related to journalists deaths,\n",
    "* Throughout the world, Iraq has witnessed most number of journalists deaths but the trend there started since 2003.\n",
    "* Most common death practice on journalists has always been murder but with time it has shifted towards crossfire/combat related death practices.\n",
    "* Male journalists are more likely to be killed may be foreign or local but most of the deaths reported are local.\n",
    "* There has always been motive behind journalists killing and those killed worked for Freelancer organization mainly. This shows that journalists working for Freelancer organization have less security. \n",
    "* Coverage area for journalists have been war and politics mostly, leading to killing of journalists working there.\n",
    "* Journalists generally work for television and print media, covering war and politics respectively and therefore, these fields have witnessed more deaths than any other medium of publishing. \n",
    "* For their work, they have been given impunity for murder followed by threatning and captivating.\n",
    "\n",
    "Journalists have been working very hard to provide us the right news and the coverage, so it's there right to be protected from unwanted killing and deaths."
   ]
  }
 ],
 "metadata": {
  "kernelspec": {
   "display_name": "R",
   "language": "R",
   "name": "ir"
  },
  "language_info": {
   "codemirror_mode": "r",
   "file_extension": ".r",
   "mimetype": "text/x-r-source",
   "name": "R",
   "pygments_lexer": "r",
   "version": "3.6.3"
  },
  "papermill": {
   "default_parameters": {},
   "duration": 5.027486,
   "end_time": "2021-05-10T05:20:12.153667",
   "environment_variables": {},
   "exception": null,
   "input_path": "__notebook__.ipynb",
   "output_path": "__notebook__.ipynb",
   "parameters": {},
   "start_time": "2021-05-10T05:20:07.126181",
   "version": "2.3.3"
  }
 },
 "nbformat": 4,
 "nbformat_minor": 5
}
